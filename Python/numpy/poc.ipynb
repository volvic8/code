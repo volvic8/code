{
 "cells": [
  {
   "cell_type": "code",
   "execution_count": 3,
   "id": "ccf81d91",
   "metadata": {},
   "outputs": [
    {
     "name": "stdout",
     "output_type": "stream",
     "text": [
      "hello!\n"
     ]
    }
   ],
   "source": [
    "print(\"hello!\")"
   ]
  },
  {
   "cell_type": "code",
   "execution_count": 4,
   "id": "fcec1222",
   "metadata": {},
   "outputs": [
    {
     "name": "stdout",
     "output_type": "stream",
     "text": [
      "[[1.]\n",
      " [1.]]\n"
     ]
    }
   ],
   "source": [
    "import numpy as np\n",
    "\n",
    "A = np.matrix([\n",
    "[2, 1],\n",
    "[1, 3]\n",
    "])\n",
    "\n",
    "Y = np.matrix([\n",
    "[3],\n",
    "[4]\n",
    "])\n",
    "print(np.linalg.solve(A,Y))\n"
   ]
  },
  {
   "cell_type": "code",
   "execution_count": 11,
   "id": "c2e42665",
   "metadata": {},
   "outputs": [
    {
     "ename": "ModuleNotFoundError",
     "evalue": "No module named 'matplotlib'",
     "output_type": "error",
     "traceback": [
      "\u001b[1;31m---------------------------------------------------------------------------\u001b[0m",
      "\u001b[1;31mModuleNotFoundError\u001b[0m                       Traceback (most recent call last)",
      "Input \u001b[1;32mIn [11]\u001b[0m, in \u001b[0;36m<cell line: 12>\u001b[1;34m()\u001b[0m\n\u001b[0;32m      8\u001b[0m y \u001b[38;5;241m=\u001b[39m np\u001b[38;5;241m.\u001b[39msin(X) \u001b[38;5;241m+\u001b[39m np\u001b[38;5;241m.\u001b[39mrandom\u001b[38;5;241m.\u001b[39mrandn(\u001b[38;5;241m20\u001b[39m)\u001b[38;5;241m*\u001b[39m\u001b[38;5;241m0.2\u001b[39m \u001b[38;5;66;03m# サインカーブの値にノイズを加えた\u001b[39;00m\n\u001b[0;32m     10\u001b[0m y\n\u001b[1;32m---> 12\u001b[0m \u001b[38;5;28;01mimport\u001b[39;00m \u001b[38;5;21;01mmatplotlib\u001b[39;00m\u001b[38;5;21;01m.\u001b[39;00m\u001b[38;5;21;01mpyplot\u001b[39;00m \u001b[38;5;28;01mas\u001b[39;00m \u001b[38;5;21;01mplt\u001b[39;00m\n\u001b[0;32m     14\u001b[0m XX \u001b[38;5;241m=\u001b[39m np\u001b[38;5;241m.\u001b[39mlinspace(\u001b[38;5;241m-\u001b[39m\u001b[38;5;241m4\u001b[39m,\u001b[38;5;241m4\u001b[39m,\u001b[38;5;241m100\u001b[39m) \u001b[38;5;66;03m# -4から4の間を100等分した数列を生成\u001b[39;00m\n\u001b[0;32m     16\u001b[0m plt\u001b[38;5;241m.\u001b[39mxlabel(\u001b[38;5;124m'\u001b[39m\u001b[38;5;124mX\u001b[39m\u001b[38;5;124m'\u001b[39m)\n",
      "\u001b[1;31mModuleNotFoundError\u001b[0m: No module named 'matplotlib'"
     ]
    }
   ],
   "source": [
    " import numpy as np\n",
    "\n",
    " X = np.random.rand(20)*8-4 # -4~4の範囲での一様乱数\n",
    "\n",
    " X\n",
    "\n",
    "\n",
    " y = np.sin(X) + np.random.randn(20)*0.2 # サインカーブの値にノイズを加えた\n",
    "\n",
    " y\n",
    "\n",
    "import matplotlib.pyplot as plt\n",
    "\n",
    " XX = np.linspace(-4,4,100) # -4から4の間を100等分した数列を生成\n",
    "\n",
    " plt.xlabel('X')\n",
    "\n",
    " plt.ylabel('y')\n",
    "\n",
    " plt.title('training data')\n",
    "\n",
    " plt.grid()\n",
    "\n",
    " plt.scatter(X, y, marker='x', c ='red') # markerでポイントするものの形状を指定。cで色を指定。これが散布図になる。\n",
    "\n",
    " plt.plot(XX, np.sin(XX)) # サインカーブをプロットする。  \n",
    "\n",
    " plt.show()"
   ]
  },
  {
   "cell_type": "code",
   "execution_count": 12,
   "id": "46a310fb",
   "metadata": {},
   "outputs": [
    {
     "data": {
      "image/png": "[encoded data removed]",
      "text/plain": [
       "<Figure size 432x288 with 1 Axes>"
      ]
     },
     "metadata": {
      "needs_background": "light"
     },
     "output_type": "display_data"
    }
   ],
   "source": [
    " import matplotlib.pyplot as plt\n",
    "\n",
    " XX = np.linspace(-4,4,100) # -4から4の間を100等分した数列を生成\n",
    "\n",
    " plt.xlabel('X')\n",
    "\n",
    " plt.ylabel('y')\n",
    "\n",
    " plt.title('training data')\n",
    "\n",
    " plt.grid()\n",
    "\n",
    " plt.scatter(X, y, marker='x', c ='red') # markerでポイントするものの形状を指定。cで色を指定。これが散布図になる。\n",
    "\n",
    " plt.plot(XX, np.sin(XX)) # サインカーブをプロットする。  \n",
    "\n",
    " plt.show()"
   ]
  },
  {
   "cell_type": "code",
   "execution_count": null,
   "id": "649bfe86",
   "metadata": {},
   "outputs": [],
   "source": []
  },
  {
   "cell_type": "code",
   "execution_count": null,
   "id": "07d32071",
   "metadata": {},
   "outputs": [],
   "source": []
  }
 ],
 "metadata": {
  "kernelspec": {
   "display_name": "Python 3 (ipykernel)",
   "language": "python",
   "name": "python3"
  },
  "language_info": {
   "codemirror_mode": {
    "name": "ipython",
    "version": 3
   },
   "file_extension": ".py",
   "mimetype": "text/x-python",
   "name": "python",
   "nbconvert_exporter": "python",
   "pygments_lexer": "ipython3",
   "version": "3.9.12"
  }
 },
 "nbformat": 4,
 "nbformat_minor": 5
}
